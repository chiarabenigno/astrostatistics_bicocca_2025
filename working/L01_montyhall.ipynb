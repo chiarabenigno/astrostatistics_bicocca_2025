{
 "cells": [
  {
   "cell_type": "code",
   "execution_count": 1,
   "id": "2a437585-5dff-4ae6-9888-4fd06d0247b5",
   "metadata": {},
   "outputs": [],
   "source": [
    "import numpy as np\n",
    "from tqdm.notebook import tqdm\n",
    "import pylab as plt\n",
    "plt.rcParams['figure.figsize'] = [8,5]"
   ]
  },
  {
   "cell_type": "markdown",
   "id": "3f18d858-0766-4905-84c4-73a7d3fd01b4",
   "metadata": {},
   "source": [
    "Monty Hall problem"
   ]
  },
  {
   "cell_type": "code",
   "execution_count": 27,
   "id": "c9826eb5-6029-43d9-93ae-1c8b36963fce",
   "metadata": {},
   "outputs": [],
   "source": [
    "def three_doors(which):\n",
    "\n",
    "    #print(\"Funzione avviata\")\n",
    "    \n",
    "    indexes = np.array([0,1,2])  #Indexes of the doors\n",
    "    doors = np.zeros(3,dtype=int)  #At the begin all the doors are empty\n",
    "    prize = np.random.choice(indexes)\n",
    "    doors[prize] = 1  #A random door has the award\n",
    "\n",
    "    choice = np.random.choice(indexes)  #The player chooses a door\n",
    "    notchosen = indexes[indexes != choice]  #Doors not choosen by the player\n",
    "\n",
    "    #print(f\"La porta con il premio è la porta: {prize}\")\n",
    "    #print(f\"Il giocatore ha scelto la porta: {choice}\")\n",
    "    #print(f\"Le porte non scelte sono: {notchosen}\")\n",
    "\n",
    "    #Invece di ciclare filtro direttamente le porte senza premio\n",
    "    opened = np.random.choice(notchosen[doors[notchosen] == 0])\n",
    "    other = np.delete(indexes,[opened,choice])[0]\n",
    "\n",
    "    #Il giocatore mantiene la porta iniziale\n",
    "    if which == 'keep':\n",
    "        return doors[choice]\n",
    "    #Il giocatore sceglie di cambiare porta\n",
    "    elif which == 'switch':\n",
    "        return doors[other]\n",
    "    #Un giocatore esterno sceglie una porta tra le rimanenti\n",
    "    elif which == 'external_player':\n",
    "        external = np.random.choice([choice, other])\n",
    "        return doors[external]\n",
    "\n",
    "  #  return 0\n",
    "    \n",
    "\n",
    "#three_doors('external_player')\n",
    "#print(\"tutto ok\")"
   ]
  },
  {
   "cell_type": "code",
   "execution_count": 35,
   "id": "bbe678e3-752b-446b-874f-13f0bc43aa26",
   "metadata": {},
   "outputs": [
    {
     "data": {
      "application/vnd.jupyter.widget-view+json": {
       "model_id": "51eb91a9e8af4b19ba0d8aa23c275432",
       "version_major": 2,
       "version_minor": 0
      },
      "text/plain": [
       "  0%|          | 0/3 [00:00<?, ?it/s]"
      ]
     },
     "metadata": {},
     "output_type": "display_data"
    },
    {
     "data": {
      "application/vnd.jupyter.widget-view+json": {
       "model_id": "3f8b278efb0b4462842818daa6f4ef32",
       "version_major": 2,
       "version_minor": 0
      },
      "text/plain": [
       "  0%|          | 0/100000 [00:00<?, ?it/s]"
      ]
     },
     "metadata": {},
     "output_type": "display_data"
    },
    {
     "name": "stdout",
     "output_type": "stream",
     "text": [
      "Probabilità finali: {'switch': np.float64(0.66375)}\n"
     ]
    },
    {
     "data": {
      "application/vnd.jupyter.widget-view+json": {
       "model_id": "1876a638e41c4d66952a65fa74c3133d",
       "version_major": 2,
       "version_minor": 0
      },
      "text/plain": [
       "  0%|          | 0/100000 [00:00<?, ?it/s]"
      ]
     },
     "metadata": {},
     "output_type": "display_data"
    },
    {
     "name": "stdout",
     "output_type": "stream",
     "text": [
      "Probabilità finali: {'switch': np.float64(0.66375), 'keep': np.float64(0.33465)}\n"
     ]
    },
    {
     "data": {
      "application/vnd.jupyter.widget-view+json": {
       "model_id": "b31246a55816450aab12f04a5978e207",
       "version_major": 2,
       "version_minor": 0
      },
      "text/plain": [
       "  0%|          | 0/100000 [00:00<?, ?it/s]"
      ]
     },
     "metadata": {},
     "output_type": "display_data"
    },
    {
     "name": "stdout",
     "output_type": "stream",
     "text": [
      "Probabilità finali: {'switch': np.float64(0.66375), 'keep': np.float64(0.33465), 'external_player': np.float64(0.50129)}\n",
      "Switchare è la cosa migliore\n"
     ]
    }
   ],
   "source": [
    "#Ripeto ogni strategia N volte per capire quale sia la migliore\n",
    "N = int(1e5)\n",
    "probability = {}\n",
    "\n",
    "for which in tqdm(['switch', 'keep', 'external_player']):\n",
    "        events = [three_doors(which) for i in tqdm(range(N))]\n",
    "        probability[which] = np.sum(events) / N\n",
    "        print(f\"Probabilità finali: {probability}\")\n",
    "if (probability['switch'] > probability['keep'] and probability['switch'] > probability['external_player']):\n",
    "        print(\"Switchare è la cosa migliore\")"
   ]
  },
  {
   "cell_type": "code",
   "execution_count": null,
   "id": "ddf677cd-14a3-4fba-b163-e6d02d1f5019",
   "metadata": {},
   "outputs": [],
   "source": []
  },
  {
   "cell_type": "code",
   "execution_count": null,
   "id": "91daaaae-f734-4949-a8d6-565d5a183c4c",
   "metadata": {},
   "outputs": [],
   "source": []
  }
 ],
 "metadata": {
  "kernelspec": {
   "display_name": "Python 3 (ipykernel)",
   "language": "python",
   "name": "python3"
  },
  "language_info": {
   "codemirror_mode": {
    "name": "ipython",
    "version": 3
   },
   "file_extension": ".py",
   "mimetype": "text/x-python",
   "name": "python",
   "nbconvert_exporter": "python",
   "pygments_lexer": "ipython3",
   "version": "3.13.2"
  }
 },
 "nbformat": 4,
 "nbformat_minor": 5
}
